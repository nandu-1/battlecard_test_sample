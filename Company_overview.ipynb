{
  "nbformat": 4,
  "nbformat_minor": 0,
  "metadata": {
    "colab": {
      "provenance": []
    },
    "kernelspec": {
      "name": "python3",
      "display_name": "Python 3"
    },
    "language_info": {
      "name": "python"
    }
  },
  "cells": [
    {
      "cell_type": "code",
      "execution_count": 17,
      "metadata": {
        "id": "EqSI0BmzXAp2",
        "colab": {
          "base_uri": "https://localhost:8080/"
        },
        "outputId": "832b9124-3202-42cc-b5ae-64b0434c54b2"
      },
      "outputs": [
        {
          "output_type": "stream",
          "name": "stdout",
          "text": [
            "American Crafts L.C. is a manufacturer of crafting and stationery products, founded in 1994 and based in Lindon, Utah. The company offers a wide array of products, including stickers, pens, markers, cardstock, paper, stamps, and other accessories. Known for its fresh and clean designs and customer service, American Crafts partners with major retailers like Walmart, Target, and JoAnn Fabrics. They have expanded their portfolio through acquisitions of brands like Pebbles, Crate Paper, We R Memory Keepers, and others. American Crafts aims to inspire crafters with stylish and sophisticated ways to record their memories.\n",
            "\n"
          ]
        }
      ],
      "source": [
        "from google import genai\n",
        "from google.genai.types import GenerateContentConfig,Tool\n",
        "from google.colab import userdata\n",
        "import json\n",
        "import subprocess\n",
        "\n",
        "GOOGLE_API_KEY=userdata.get('GOOGLE_API_KEY')\n",
        "client = genai.Client(api_key=GOOGLE_API_KEY)\n",
        "config_20 = GenerateContentConfig(\n",
        "    temperature=0.1,\n",
        "    top_p=1,system_instruction=\"You are a Relationship Manager with excellent financial analysis knowledge at an esteemed US bank.You are proficient at market reasearch for fininacial analysis.\",\n",
        "    tools=[Tool(googleSearch={})]\n",
        ")\n",
        "prompt = '''Give me the company overview and key highlights for American Crafts L.C. from its official website. Provide a summary in 4-5 sentences. If you are not able to find anything, then print as \"Nothing found\"'''\n",
        "\n",
        "# prompt1 = '''Find ongoing legal issues involving American Crafts L.C., such as active lawsuits, current legal disputes, regulatory investigations, criminal cases, or any other ongoing legal proceedings related to the company.\n",
        "#              Focus on articles from the company’s official website as well as trusted sources like Bloomberglaw, Reuters, Business Insider, Financial Times, WSJ, and similar reputable outlets.\n",
        "#              Provide the **reported date** along with a **one-line summary** of the **ongoing legal matter and the associated URL**.\n",
        "#              **Exclude** duplicate and broken links.\n",
        "#              Ensure the **search is confined to American Crafts L.C.** and does not include variations of the company’s name.\n",
        "#              If no ongoing legal issues are found, output should be **\"No news found.\"**'''\n",
        "\n",
        "# prompt2 = '''1.Search for news regarding C-suite changes (CEO, CFO, COO, CTO) and executive appointments at Sony Corporation from Sony Corporation's official website and other trusted sources like Bloomberg, Reuters, Business Insider, Financial Times, and WSJ and similar within the last 6 months to 1 year.\n",
        "#              2.Focus on web pages containing keywords like: **leadership overhaul, leadership shifts, c-suite change, New CEO/CFO/COO/CTO, executive leadership update, board of directors change, corporate leadership news, new top executive, company announces new leadership, executive team restructuring**.etc\n",
        "#              3.Give me a reported date along with **one-line summary** and the associated URL.\n",
        "#              4.Exclude duplicate and broken links.\n",
        "#           '''\n",
        "\n",
        "# prompt3 = '''1.Search for recent news on C-suite changes at American Crafts L.C., including CEO appointments, executive leadership transitions, and new hires for key positions like CFO, COO, or CTO.\n",
        "#              2.Begin by checking American Crafts L.C.'s official website for any recent leadership change announcements or news.\n",
        "#              3.Focus on articles that specifically mention leadership shifts, restructuring of the executive team, or the appointment of new top executives at American Crafts L.C..\n",
        "#              4.Ensure results come from trusted sources like Bloomberg, Reuters, Business Insider, The Wall Street Journal, Financial Times, and similar.\n",
        "#              5.Filter results to only include articles from the past 6 months to 1 year, ensuring that the information is up-to-date.\n",
        "#              6.Exclude duplicate, broken, blocked, or invalid URLs.\n",
        "\n",
        "#              **Criteria for Results**:\n",
        "# - Provide a **one-line summary** for each relevant leadership change with the **latest corresponding URL**.\n",
        "# - **Avoid duplication** of news, whether from the same or different sources.\n",
        "# - Prioritize results with high confidence scores and rank results in **descending order** by:\n",
        "#   - **Latest date** (most recent news first).\n",
        "#   - **Relevance** to American Crafts L.C.'s leadership changes (focus on leadership changes, executive updates etc).\n",
        "#   - **Credibility of the source** (prefer trusted sources like American Crafts L.C.'s official website, Bloomberg, Reuters, etc.).\n",
        "# - Focus on web pages containing keywords like: **leadership overhaul, leadership shifts, c-suite change, New CEO/CFO/COO/CTO, executive leadership update, board of directors change, corporate leadership news, new top executive, company announces new leadership, executive team restructuring**.etc\n",
        "# - **Exclude broken and blocked and invalid URL's**'''\n",
        "\n",
        "# prompt1 = '''1. Please note that you are a renowned financial market researcher.\n",
        "# 2. Provide me with the latest news, from today to the past year, on Sony Corporation's M&A activities from verified sources.\n",
        "# 3. Focus on keywords such as \"Sony Corp's Mergers and Acquisitions,\" \"Sony Corp's M&A,\" \"Sony Corp's Acquisitions,\" \"Sony Corp's Divestitures,\" and \"Sony Corp's Takeovers.\"\n",
        "# 4. Search sources like Sony's Investor Relations Website, major financial news outlets (Bloomberg, Reuters, Wall Street Journal, Financial Times, CNBC), and dedicated M&A news sources (Mergermarket, DealBook, Pitchbook, The Deal), which offer in-depth coverage of mergers and acquisitions. Also, check the details of mergers and acquisitions in Sony's filings with the U.S. Securities and Exchange Commission (SEC).\n",
        "# 5. Provide me with complete sentences, not just the title. Rank the links by their reliability, latest date, and relevance to the search query.\n",
        "# 6. Exclude any repeated news from the same or different sources in the output.  '''\n",
        "\n",
        "# prompt2 = '''\n",
        "# 1.Search for F.W.Webb's M&A activities in the last 2 year from reliable and trusted resources such as:\n",
        "\n",
        "# 1.1. F.W.Webb's Investor Relations website or check F.W. Webb's official website directly for investor relations information.\n",
        "# 1.2. Major financial news outlets: Bloomberg, Reuters, Wall Street Journal, Financial Times, CNBC, The Verge\n",
        "# 1.3. Dedicated M&A news sources: Mergermarket, DealBook, Pitchbook, The Deal\n",
        "# 1.4. F.W.Webb's filings with the U.S. SEC\n",
        "# 1.5  Not confining to these sources search other credible sources from major financial publications and financial journals.\n",
        "\n",
        "# 2. Provide a one-line summary for each relevant M&A news item with the corresponding latest uri.\n",
        "# 3. Exclude any duplicate news from the same or different sources.\n",
        "# 4. Rank the output by:\n",
        "# - Latest date\n",
        "# - Relevance to F.W.Webb's M&A activities\n",
        "# - Credibility of the source (F.W.Webb's official site, Bloomberg, Reuters, etc.)\n",
        "# 5. Ensure that the uri's provided by you are working and from trusted sources only.\n",
        "# '''\n",
        "\n",
        "# prompt3 = '''Search for American Crafts's M&A activities in the last year, focusing on the following:\n",
        "\n",
        "# 1. American Crafts's official website (Investor Relations section).\n",
        "# 2. Trusted financial news sources like Bloomberg, Reuters, Wall Street Journal, Financial Times, CNBC, The Verge.\n",
        "# 3. Dedicated M&A sources such as Mergermarket, DealBook, Pitchbook, The Deal.\n",
        "# 4. Details of mergers and acquisitions in Sony's filings with the U.S. SEC (Securities and Exchange Commission).\n",
        "\n",
        "# **Criteria for Results**:\n",
        "# - Provide a **one-line summary** for each relevant M&A activity and include the corresponding uri\n",
        "# - Ensure no duplication of information from the same or different sources.\n",
        "# - Rank results in **descending order** by:\n",
        "#   - **Latest date**\n",
        "#   - **Relevance to American Crafts's M&A activities**\n",
        "#   - **Credibility of the source** (with priority given to more trusted sources like American Crafts's official website, Bloomberg, Reuters, etc.)\n",
        "# - Ensure all links are **working** and from trusted sources only.\n",
        "# - Focus on web pages containing keywords like: **partnership, takeover, acquires, acquired by, merged**, etc.\n",
        "# - **Exclude broken links** and prioritize high-confidence sources for accuracy and reliability.\n",
        "\n",
        "# Start by searching American Crafts L.C. official website first, followed by major financial journals and M&A-specific sources.\n",
        "# '''\n",
        "\n",
        "# prompt4 = '''Search for American Crafts L.C. M&A activities over the last two years using the following trusted sources:\n",
        "\n",
        "# 1. American Crafts L.C. official website or its Investor Relations section.\n",
        "# 2. Major financial news outlets like Bloomberg, Reuters, Wall Street Journal, Financial Times, CNBC, and The Verge.\n",
        "# 3. Dedicated M&A sources such as Mergermarket, DealBook, Pitchbook, The Deal.\n",
        "# 4. American Crafts L.C. filings with the U.S. SEC (Securities and Exchange Commission).\n",
        "# 5. Other reliable financial sources from well-known publications and journals.\n",
        "\n",
        "# **Criteria for Results**:\n",
        "# - Provide a **one-line summary** for each relevant M&A news item with the **latest corresponding URL**.\n",
        "# - Ensure no duplication of news, whether from the same or different sources.\n",
        "# - Prioritize results with high confidence scores and rank results in **descending order** by:\n",
        "#   - **Latest date** (most recent news first).\n",
        "#   - **Relevance** to American Crafts L.C. M&A activities (focus on acquisitions, mergers, or related transactions).\n",
        "#   - **Credibility of the source** (give preference to more trusted sources like American Crafts L.C.'s official website, Bloomberg, Reuters, etc.).\n",
        "# - Focus on web pages containing keywords like: **partnership, takeover, acquires, acquired by, merged**, etc.\n",
        "# - **Exclude broken and blocked and invalid URL's**\n",
        "# '''\n",
        "resp_20 = client.models.generate_content(model = \"gemini-2.0-flash\",config=config_20,contents=prompt)\n",
        "print(resp_20.text)\n",
        "#print(resp_20.candidates[0].grounding_metadata.search_entry_point.rendered_content)\n",
        "#print(resp_20.candidates[0].grounding_metadata.grounding_chunks)\n",
        "#print(resp_20.candidates[0].grounding_metadata)\n",
        "\n",
        "# grounding_metadata = resp_20.candidates[0].grounding_metadata.grounding_chunks\n",
        "# grounding_metadata_json = json.dumps(grounding_metadata, indent=4)\n",
        "# result = subprocess.run(['jq', '.', '<(echo \"' + grounding_metadata_json + '\")'], capture_output=True, text=True, shell=True)\n",
        "# print(result.stdout)\n",
        "\n",
        "# # Write the grounding metadata to a file\n",
        "# with open('grounding_metadata.json', 'w') as f:\n",
        "#     f.write(grounding_metadata_json)\n",
        "\n",
        "# Use jq to process the JSON file\n",
        "#subprocess.run([\"jq\", \".\", \"grounding_metadata.json\"])\n",
        "\n",
        "#genai.configure(api_key=GOOGLE_API_KEY)"
      ]
    },
    {
      "cell_type": "code",
      "source": [
        "resp_20.candidates[0].grounding_metadata.grounding_chunks"
      ],
      "metadata": {
        "id": "Vl23PCxanr-o",
        "colab": {
          "base_uri": "https://localhost:8080/"
        },
        "outputId": "c6236d79-0c71-4b5d-b201-dfade73cffd0"
      },
      "execution_count": 18,
      "outputs": [
        {
          "output_type": "execute_result",
          "data": {
            "text/plain": [
              "[GroundingChunk(retrieved_context=None, web=GroundingChunkWeb(title='pitchbook.com', uri='https://vertexaisearch.cloud.google.com/grounding-api-redirect/AUBnsYuJsaI7J9n58BHjofsLO8YXkK8hhgeaph95wzYk-MLIlj5QclKTxXlLXH8CqH4-YDDKFT2MHno5rAcb3El6Rq3n6V8maGJ2EZQyG0yZSHbK36gs-hV2mE5totOVishyv8YK6HRm9YBOiN8=')),\n",
              " GroundingChunk(retrieved_context=None, web=GroundingChunkWeb(title='rwbaird.com', uri='https://vertexaisearch.cloud.google.com/grounding-api-redirect/AUBnsYvinwXE7CZ1xL_OcuMTeR09T7j-sGaS29VdxpvjPV1CW4Ov2pBzJ5CIYqGSq_9bazG8Il4k55dcI66Xcwgyd1tq9uo39-TP9uQnWcP0Q3Nb7TlA6DlObTV8v0zvYB7xmj_TKuEvC8I9uQ8ggnukvN5EG7gjV_lbL-3E1VryK9rjew==')),\n",
              " GroundingChunk(retrieved_context=None, web=GroundingChunkWeb(title='leadiq.com', uri='https://vertexaisearch.cloud.google.com/grounding-api-redirect/AUBnsYsnpNRyx5a3-9R-diQO0zd_jbyL5Dd8XzT36JeepdVr2dmgnipNIL8qOMzIvVCcyoouWZGkkABMyWe58NSWz-GyPfAYdCSwu7DHok39I2BTWnjRkRFF-_jz1mb_h-fVV7xjQ7zDONsqeZ186ivppW7RmycJvhaxFA=='))]"
            ]
          },
          "metadata": {},
          "execution_count": 18
        }
      ]
    },
    {
      "cell_type": "code",
      "source": [
        "l=dict()\n",
        "l['company_overview']=''\n",
        "if (\"Nothig found\").lower() not in resp_20.text.lower():\n",
        "  l['company_overview'] = resp_20.text\n",
        "overview_json = json.dumps(l, indent=4)\n",
        "with open('overview.json', 'w') as f:\n",
        "  f.write(overview_json)"
      ],
      "metadata": {
        "id": "edxX6OIspMlU"
      },
      "execution_count": 19,
      "outputs": []
    },
    {
      "cell_type": "code",
      "source": [
        "uris=[]\n",
        "l=''\n",
        "if resp_20.candidates[0].grounding_metadata.grounding_chunks is not None:\n",
        "  uris = [chunk.web.uri for chunk in resp_20.candidates[0].grounding_metadata.grounding_chunks]\n",
        "  l = resp_20.text\n",
        "#print(l)"
      ],
      "metadata": {
        "id": "G3qV3Bsd8zUt"
      },
      "execution_count": null,
      "outputs": []
    },
    {
      "cell_type": "code",
      "source": [
        "uris"
      ],
      "metadata": {
        "id": "FjqUKHKj8zkT",
        "colab": {
          "base_uri": "https://localhost:8080/"
        },
        "outputId": "848c90a5-bc13-49c7-84d6-722630c252f4"
      },
      "execution_count": null,
      "outputs": [
        {
          "output_type": "execute_result",
          "data": {
            "text/plain": [
              "[]"
            ]
          },
          "metadata": {},
          "execution_count": 7
        }
      ]
    },
    {
      "cell_type": "code",
      "source": [
        "recent_news = {}\n",
        "if ((\"No news found\").lower() not in l.lower()):\n",
        "  if resp_20.candidates[0].grounding_metadata.grounding_supports is not None:\n",
        "      titles = [title.segment.text for title in resp_20.candidates[0].grounding_metadata.grounding_supports]\n",
        "      summ_link = list(zip(titles,uris))\n",
        "      recent_news = dict(summ_link)\n",
        "recent_news_json = json.dumps(recent_news, indent=4)\n",
        "with open('Recent_news.json', 'w') as f:\n",
        "  f.write(recent_news_json)"
      ],
      "metadata": {
        "id": "gTB9Zh1PT-66"
      },
      "execution_count": null,
      "outputs": []
    },
    {
      "cell_type": "code",
      "source": [
        "resp_20.candidates[0].grounding_metadata.grounding_supports.segment.text"
      ],
      "metadata": {
        "id": "uV8MFstDU9T-",
        "colab": {
          "base_uri": "https://localhost:8080/",
          "height": 146
        },
        "outputId": "80bd74ab-93e5-4bf5-db44-e148bd9b337f"
      },
      "execution_count": null,
      "outputs": [
        {
          "output_type": "error",
          "ename": "AttributeError",
          "evalue": "'NoneType' object has no attribute 'segment'",
          "traceback": [
            "\u001b[0;31m---------------------------------------------------------------------------\u001b[0m",
            "\u001b[0;31mAttributeError\u001b[0m                            Traceback (most recent call last)",
            "\u001b[0;32m<ipython-input-9-260e62908220>\u001b[0m in \u001b[0;36m<cell line: 0>\u001b[0;34m()\u001b[0m\n\u001b[0;32m----> 1\u001b[0;31m \u001b[0mresp_20\u001b[0m\u001b[0;34m.\u001b[0m\u001b[0mcandidates\u001b[0m\u001b[0;34m[\u001b[0m\u001b[0;36m0\u001b[0m\u001b[0;34m]\u001b[0m\u001b[0;34m.\u001b[0m\u001b[0mgrounding_metadata\u001b[0m\u001b[0;34m.\u001b[0m\u001b[0mgrounding_supports\u001b[0m\u001b[0;34m.\u001b[0m\u001b[0msegment\u001b[0m\u001b[0;34m.\u001b[0m\u001b[0mtext\u001b[0m\u001b[0;34m\u001b[0m\u001b[0;34m\u001b[0m\u001b[0m\n\u001b[0m",
            "\u001b[0;31mAttributeError\u001b[0m: 'NoneType' object has no attribute 'segment'"
          ]
        }
      ]
    },
    {
      "cell_type": "code",
      "source": [],
      "metadata": {
        "id": "A9wMYE11XCn9"
      },
      "execution_count": null,
      "outputs": []
    },
    {
      "cell_type": "code",
      "source": [],
      "metadata": {
        "id": "y_JYexh9XCtu"
      },
      "execution_count": null,
      "outputs": []
    },
    {
      "cell_type": "code",
      "source": [],
      "metadata": {
        "id": "UDF22OabXC1C"
      },
      "execution_count": null,
      "outputs": []
    }
  ]
}