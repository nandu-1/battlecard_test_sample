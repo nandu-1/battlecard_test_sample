{
  "nbformat": 4,
  "nbformat_minor": 0,
  "metadata": {
    "colab": {
      "provenance": []
    },
    "kernelspec": {
      "name": "python3",
      "display_name": "Python 3"
    },
    "language_info": {
      "name": "python"
    }
  },
  "cells": [
    {
      "cell_type": "code",
      "execution_count": null,
      "metadata": {
        "colab": {
          "base_uri": "https://localhost:8080/"
        },
        "id": "EqSI0BmzXAp2",
        "outputId": "b48cc7e1-59b9-406a-91cc-518e0a31f3bc"
      },
      "outputs": [
        {
          "output_type": "stream",
          "name": "stdout",
          "text": [
            "Okay, I will search for American Crafts L.C.'s M&A activities over the last two years using the specified sources and criteria. I will prioritize the latest, most relevant, and credible information, focusing on keywords like \"partnership,\" \"takeover,\" \"acquires,\" \"acquired by,\" and \"merged.\" I will exclude broken or invalid URLs.\n",
            "\n",
            "Based on the search results, here's a summary of M&A activities related to American Crafts L.C. over the past two years. Note that due to the limitations of the search results and the provided timeframe, the most relevant result falls outside the two-year window but is included due to its significance.\n",
            "\n",
            "*   **2018-09-05:** American Crafts acquired EK Success Ltd. and its family of papercrafting brands from Wilton Brands, bringing EK Tools, Sticko, Jolee's, and K&Company into the American Crafts portfolio. [https://vertexaisearch.cloud.google.com/grounding-api-redirect/AUBnsYusQRlrYGXquib0X0wtLKrmVYPbWaXTBE2_3K1ECMrscerWALF4NGv-2JyNY5ynVfzLiMBghkAc\\_\\_0CHiwHP\\_uqMF8HytKomge458oJHHidf36exJAh0GE\\_-zU5REGkM8femBJPysB-3hyJO8aN007u0wo7FMMbheLCa5faBQWJcIXV](https://vertexaisearch.cloud.google.com/grounding-api-redirect/AUBnsYusQRlrYGXquib0X0wtLKrmVYPbWaXTBE2_3K1ECMrscerWALF4NGv-2JyNY5ynVfzLiMBghkAc__0CHiwHP_uqMF8HytKomge458oJHHidf36exJAh0GE_-zU5REGkM8femBJPysB-3hyJO8aN007u0wo7FMMbheLCa5faBQWJcIXV)\n",
            "\n",
            "While the search did not reveal any M&A activity within the past two years (2023-2025), the acquisition of EK Success in 2018 is a significant event in American Crafts' recent history. Also, the search results mention previous acquisitions by American Crafts, including Core'dinations, DCWV's paper division, BoBunny Press, Pebbles, Crate Paper, We R Memory Keepers, Die Cuts With a View and Bazzill Basics.\n",
            "\n"
          ]
        }
      ],
      "source": [
        "from google import genai\n",
        "from google.genai.types import GenerateContentConfig,Tool\n",
        "from google.colab import userdata\n",
        "import json\n",
        "import subprocess\n",
        "\n",
        "GOOGLE_API_KEY=userdata.get('GOOGLE_API_KEY')\n",
        "client = genai.Client(api_key=GOOGLE_API_KEY)\n",
        "config_20 = GenerateContentConfig(\n",
        "    temperature=0.1,\n",
        "    top_p=1,system_instruction=\"You are a Relationship Manager with excellent financial analysis knowledge at an esteemed US bank.You are proficient at market reasearch for fininacial analysis.\",\n",
        "    tools=[Tool(googleSearch={})]\n",
        ")\n",
        "prompt = '''1.Remember you are reknowned financial market researcher.\n",
        "            2.Get me the latest news from today until 1 year on Sony Corporation's M&A activities from cited verified sources.\n",
        "            3.Look for keywords like Sony Corp's Mergers and Acquisitions, Sony Corps's M&A, Sony Corp's Acquisitions, Sony Corp's Divestitures, Sony Corp's Takeovers etc.\n",
        "            4.Search sources like Sony's Investor Relations Website, major financial news outlets(websites like Bloomberg,Reuters,Wall Street Journal, Financial Times, CNBC), any dedicated M&A news sources(publications like Mergermarket, DealBook (New York Times), Pitchbook, The Deal)) which gives in-depth coverage of mergers and acquisitons.Check the details about merger and acquisitions in their filings with U.S. Securities and Exchange Commission(SEC)\n",
        "            5.Give me complete sentences and not just the title. Rank the links in descending order of their reliability,latest date and semantical relevance between the search query and the response.\n",
        "            6.Remove any news which is repeating from different or same source'''\n",
        "\n",
        "prompt1 = '''1. Please note that you are a renowned financial market researcher.\n",
        "2. Provide me with the latest news, from today to the past year, on Sony Corporation's M&A activities from verified sources.\n",
        "3. Focus on keywords such as \"Sony Corp's Mergers and Acquisitions,\" \"Sony Corp's M&A,\" \"Sony Corp's Acquisitions,\" \"Sony Corp's Divestitures,\" and \"Sony Corp's Takeovers.\"\n",
        "4. Search sources like Sony's Investor Relations Website, major financial news outlets (Bloomberg, Reuters, Wall Street Journal, Financial Times, CNBC), and dedicated M&A news sources (Mergermarket, DealBook, Pitchbook, The Deal), which offer in-depth coverage of mergers and acquisitions. Also, check the details of mergers and acquisitions in Sony's filings with the U.S. Securities and Exchange Commission (SEC).\n",
        "5. Provide me with complete sentences, not just the title. Rank the links by their reliability, latest date, and relevance to the search query.\n",
        "6. Exclude any repeated news from the same or different sources in the output.  '''\n",
        "\n",
        "prompt2 = '''\n",
        "1.Search for F.W.Webb's M&A activities in the last 2 year from reliable and trusted resources such as:\n",
        "\n",
        "1.1. F.W.Webb's Investor Relations website or check F.W. Webb's official website directly for investor relations information.\n",
        "1.2. Major financial news outlets: Bloomberg, Reuters, Wall Street Journal, Financial Times, CNBC, The Verge\n",
        "1.3. Dedicated M&A news sources: Mergermarket, DealBook, Pitchbook, The Deal\n",
        "1.4. F.W.Webb's filings with the U.S. SEC\n",
        "1.5  Not confining to these sources search other credible sources from major financial publications and financial journals.\n",
        "\n",
        "2. Provide a one-line summary for each relevant M&A news item with the corresponding latest uri.\n",
        "3. Exclude any duplicate news from the same or different sources.\n",
        "4. Rank the output by:\n",
        "- Latest date\n",
        "- Relevance to F.W.Webb's M&A activities\n",
        "- Credibility of the source (F.W.Webb's official site, Bloomberg, Reuters, etc.)\n",
        "5. Ensure that the uri's provided by you are working and from trusted sources only.\n",
        "'''\n",
        "\n",
        "prompt3 = '''Search for American Crafts's M&A activities in the last year, focusing on the following:\n",
        "\n",
        "1. American Crafts's official website (Investor Relations section).\n",
        "2. Trusted financial news sources like Bloomberg, Reuters, Wall Street Journal, Financial Times, CNBC, The Verge.\n",
        "3. Dedicated M&A sources such as Mergermarket, DealBook, Pitchbook, The Deal.\n",
        "4. Details of mergers and acquisitions in Sony's filings with the U.S. SEC (Securities and Exchange Commission).\n",
        "\n",
        "**Criteria for Results**:\n",
        "- Provide a **one-line summary** for each relevant M&A activity and include the corresponding uri\n",
        "- Ensure no duplication of information from the same or different sources.\n",
        "- Rank results in **descending order** by:\n",
        "  - **Latest date**\n",
        "  - **Relevance to American Crafts's M&A activities**\n",
        "  - **Credibility of the source** (with priority given to more trusted sources like American Crafts's official website, Bloomberg, Reuters, etc.)\n",
        "- Ensure all links are **working** and from trusted sources only.\n",
        "- Focus on web pages containing keywords like: **partnership, takeover, acquires, acquired by, merged**, etc.\n",
        "- **Exclude broken links** and prioritize high-confidence sources for accuracy and reliability.\n",
        "\n",
        "Start by searching American Crafts L.C. official website first, followed by major financial journals and M&A-specific sources.\n",
        "'''\n",
        "\n",
        "prompt4 = '''Search for American Crafts L.C. M&A activities over the last two years using the following trusted sources:\n",
        "\n",
        "1. American Crafts L.C. official website or its Investor Relations section.\n",
        "2. Major financial news outlets like Bloomberg, Reuters, Wall Street Journal, Financial Times, CNBC, and The Verge.\n",
        "3. Dedicated M&A sources such as Mergermarket, DealBook, Pitchbook, The Deal.\n",
        "4. American Crafts L.C. filings with the U.S. SEC (Securities and Exchange Commission).\n",
        "5. Other reliable financial sources from well-known publications and journals.\n",
        "\n",
        "**Criteria for Results**:\n",
        "- Provide a **one-line summary** for each relevant M&A news item with the **latest corresponding URL**.\n",
        "- Ensure no duplication of news, whether from the same or different sources.\n",
        "- Prioritize results with high confidence scores and rank results in **descending order** by:\n",
        "  - **Latest date** (most recent news first).\n",
        "  - **Relevance** to American Crafts L.C. M&A activities (focus on acquisitions, mergers, or related transactions).\n",
        "  - **Credibility of the source** (give preference to more trusted sources like American Crafts L.C.’s official website, Bloomberg, Reuters, etc.).\n",
        "- Focus on web pages containing keywords like: **partnership, takeover, acquires, acquired by, merged**, etc.\n",
        "- **Exclude broken and blocked and invalid URL's**\n",
        "'''\n",
        "resp_20 = client.models.generate_content(model = \"gemini-2.0-flash\",config=config_20,contents=prompt4)\n",
        "print(resp_20.text)\n",
        "#print(resp_20.candidates[0].grounding_metadata.search_entry_point.rendered_content)\n",
        "#print(resp_20.candidates[0].grounding_metadata.grounding_chunks)\n",
        "#print(resp_20.candidates[0].grounding_metadata)\n",
        "\n",
        "# grounding_metadata = resp_20.candidates[0].grounding_metadata.grounding_chunks\n",
        "# grounding_metadata_json = json.dumps(grounding_metadata, indent=4)\n",
        "# result = subprocess.run(['jq', '.', '<(echo \"' + grounding_metadata_json + '\")'], capture_output=True, text=True, shell=True)\n",
        "# print(result.stdout)\n",
        "\n",
        "# # Write the grounding metadata to a file\n",
        "# with open('grounding_metadata.json', 'w') as f:\n",
        "#     f.write(grounding_metadata_json)\n",
        "\n",
        "# Use jq to process the JSON file\n",
        "#subprocess.run([\"jq\", \".\", \"grounding_metadata.json\"])\n",
        "\n",
        "#genai.configure(api_key=GOOGLE_API_KEY)"
      ]
    },
    {
      "cell_type": "code",
      "source": [
        "resp_20.candidates[0].grounding_metadata.grounding_chunks"
      ],
      "metadata": {
        "colab": {
          "base_uri": "https://localhost:8080/"
        },
        "id": "Vl23PCxanr-o",
        "outputId": "3e2a30d1-252a-4b3f-b50f-f88fa5c6cb40"
      },
      "execution_count": null,
      "outputs": [
        {
          "output_type": "execute_result",
          "data": {
            "text/plain": [
              "[GroundingChunk(retrieved_context=None, web=GroundingChunkWeb(title='rwbaird.com', uri='https://vertexaisearch.cloud.google.com/grounding-api-redirect/AUBnsYs6M8rU0CRvHczZOuh9Tx9lGs2HfuaVidIqILzNk3VfhkOdS9Z5WWSMzAIk7CfUvg2MjqEUwFIiggXNNfTkCawXZaw2hPkrzrrg-NmWp7vQ4Xyww2dcZ2TXdwJG9iuh-DZdrEmK1XP6ydh2-QIDx4nPTZKqIxSdain5TImPIMPbM1E='))]"
            ]
          },
          "metadata": {},
          "execution_count": 112
        }
      ]
    },
    {
      "cell_type": "code",
      "source": [
        "uris = [chunk.web.uri for chunk in resp_20.candidates[0].grounding_metadata.grounding_chunks]\n",
        "l = resp_20.text\n",
        "print(l)"
      ],
      "metadata": {
        "id": "G3qV3Bsd8zUt",
        "colab": {
          "base_uri": "https://localhost:8080/"
        },
        "outputId": "5db65b7d-62d7-4cde-8960-06bab9028243"
      },
      "execution_count": null,
      "outputs": [
        {
          "output_type": "stream",
          "name": "stdout",
          "text": [
            "Okay, I will search for American Crafts L.C.'s M&A activities over the last two years using the specified sources and criteria. I will prioritize the latest, most relevant, and credible information, focusing on keywords like \"partnership,\" \"takeover,\" \"acquires,\" \"acquired by,\" and \"merged.\" I will exclude broken or invalid URLs.\n",
            "\n",
            "Based on the search results, here's a summary of M&A activities related to American Crafts L.C. over the past two years. Note that due to the limitations of the search results and the provided timeframe, the most relevant result falls outside the two-year window but is included due to its significance.\n",
            "\n",
            "*   **2018-09-05:** American Crafts acquired EK Success Ltd. and its family of papercrafting brands from Wilton Brands, bringing EK Tools, Sticko, Jolee's, and K&Company into the American Crafts portfolio. [https://vertexaisearch.cloud.google.com/grounding-api-redirect/AUBnsYusQRlrYGXquib0X0wtLKrmVYPbWaXTBE2_3K1ECMrscerWALF4NGv-2JyNY5ynVfzLiMBghkAc\\_\\_0CHiwHP\\_uqMF8HytKomge458oJHHidf36exJAh0GE\\_-zU5REGkM8femBJPysB-3hyJO8aN007u0wo7FMMbheLCa5faBQWJcIXV](https://vertexaisearch.cloud.google.com/grounding-api-redirect/AUBnsYusQRlrYGXquib0X0wtLKrmVYPbWaXTBE2_3K1ECMrscerWALF4NGv-2JyNY5ynVfzLiMBghkAc__0CHiwHP_uqMF8HytKomge458oJHHidf36exJAh0GE_-zU5REGkM8femBJPysB-3hyJO8aN007u0wo7FMMbheLCa5faBQWJcIXV)\n",
            "\n",
            "While the search did not reveal any M&A activity within the past two years (2023-2025), the acquisition of EK Success in 2018 is a significant event in American Crafts' recent history. Also, the search results mention previous acquisitions by American Crafts, including Core'dinations, DCWV's paper division, BoBunny Press, Pebbles, Crate Paper, We R Memory Keepers, Die Cuts With a View and Bazzill Basics.\n",
            "\n"
          ]
        }
      ]
    },
    {
      "cell_type": "code",
      "source": [
        "uris"
      ],
      "metadata": {
        "id": "FjqUKHKj8zkT",
        "colab": {
          "base_uri": "https://localhost:8080/"
        },
        "outputId": "f89128c5-6d28-4a7d-8ab2-e550ad832950"
      },
      "execution_count": null,
      "outputs": [
        {
          "output_type": "execute_result",
          "data": {
            "text/plain": [
              "['https://vertexaisearch.cloud.google.com/grounding-api-redirect/AUBnsYs6M8rU0CRvHczZOuh9Tx9lGs2HfuaVidIqILzNk3VfhkOdS9Z5WWSMzAIk7CfUvg2MjqEUwFIiggXNNfTkCawXZaw2hPkrzrrg-NmWp7vQ4Xyww2dcZ2TXdwJG9iuh-DZdrEmK1XP6ydh2-QIDx4nPTZKqIxSdain5TImPIMPbM1E=']"
            ]
          },
          "metadata": {},
          "execution_count": 123
        }
      ]
    },
    {
      "cell_type": "code",
      "source": [
        "titles = [title.segment.text for title in resp_20.candidates[0].grounding_metadata.grounding_supports]\n",
        "summ_link = list(zip(titles,uris))\n",
        "MA_link = dict(summ_link)\n",
        "print(MA_link)"
      ],
      "metadata": {
        "colab": {
          "base_uri": "https://localhost:8080/"
        },
        "id": "gTB9Zh1PT-66",
        "outputId": "3e9e0c6b-6d11-4faa-ef0d-fc9a090f7701"
      },
      "execution_count": null,
      "outputs": [
        {
          "output_type": "stream",
          "name": "stdout",
          "text": [
            "{'(EKSB), a division of Wilton Brands, LLC, a leader in paper crafting products and activities; the terms of the transaction were not disclosed.': 'https://vertexaisearch.cloud.google.com/grounding-api-redirect/AUBnsYs6M8rU0CRvHczZOuh9Tx9lGs2HfuaVidIqILzNk3VfhkOdS9Z5WWSMzAIk7CfUvg2MjqEUwFIiggXNNfTkCawXZaw2hPkrzrrg-NmWp7vQ4Xyww2dcZ2TXdwJG9iuh-DZdrEmK1XP6ydh2-QIDx4nPTZKqIxSdain5TImPIMPbM1E='}\n"
          ]
        }
      ]
    },
    {
      "cell_type": "code",
      "source": [
        "MA_activity_json = json.dumps(MA_link, indent=4)\n",
        "with open('MA_activity.json', 'w') as f:\n",
        "  f.write(MA_activity_json)"
      ],
      "metadata": {
        "id": "uV8MFstDU9T-"
      },
      "execution_count": null,
      "outputs": []
    },
    {
      "cell_type": "code",
      "source": [
        "#Next Steps:\n",
        "#1.check for grounding_chunks and grounding_supports in grounding_metadata\n",
        "#2.in grounding_metadata\n",
        "#2.renderedcontent"
      ],
      "metadata": {
        "id": "A9wMYE11XCn9"
      },
      "execution_count": null,
      "outputs": []
    },
    {
      "cell_type": "code",
      "source": [],
      "metadata": {
        "id": "y_JYexh9XCtu"
      },
      "execution_count": null,
      "outputs": []
    },
    {
      "cell_type": "code",
      "source": [],
      "metadata": {
        "id": "UDF22OabXC1C"
      },
      "execution_count": null,
      "outputs": []
    }
  ]
}